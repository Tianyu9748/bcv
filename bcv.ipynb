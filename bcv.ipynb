{
 "cells": [
  {
   "cell_type": "code",
   "execution_count": 1,
   "id": "a1b984d0-381a-4520-9a1a-bc5b5f20d534",
   "metadata": {},
   "outputs": [],
   "source": [
    "import pandas as pd\n",
    "import math\n",
    "import numpy as np\n",
    "import random\n",
    "from sklearn.decomposition import PCA\n",
    "import matplotlib.pyplot as plt\n",
    "import seaborn as sns\n",
    "%matplotlib inline"
   ]
  },
  {
   "cell_type": "code",
   "execution_count": 2,
   "id": "bb1a534b-ff70-40e3-9dd2-6f0123bfca5a",
   "metadata": {},
   "outputs": [],
   "source": [
    "data = pd.read_csv(\"gene.csv\",index_col = 0)"
   ]
  },
  {
   "cell_type": "code",
   "execution_count": null,
   "id": "a8c8e7e2-2ade-4e75-8b6d-35400bc5db73",
   "metadata": {},
   "outputs": [],
   "source": [
    "data_norm = scale(data)\n",
    "\n",
    "pca = PCA(n_components = 'mle')\n",
    "pca.fit(data_norm)"
   ]
  },
  {
   "cell_type": "code",
   "execution_count": null,
   "id": "3cf80f55-c2e8-4f8f-9a15-8b783f958fe5",
   "metadata": {},
   "outputs": [],
   "source": [
    "pca_df = pca.transform(data_norm)\n",
    "u = pca.components_.reshape([52,2])\n",
    "z = u.T.dot(data_norm.T)\n",
    "df_approx = u.dot(z).reshape(data.shape)\n",
    "data_res = pd.DataFrame(data=(data_norm-df_approx),index = data.index, columns = data.columns)"
   ]
  },
  {
   "cell_type": "code",
   "execution_count": 6,
   "id": "fd8298c8-4ebb-46f0-886c-b2009bbc4737",
   "metadata": {},
   "outputs": [],
   "source": [
    "iterations = 10\n",
    "nums = 30\n",
    "x = pd.DataFrame(index = range(1,iterations+1), columns = range(1,nums+1))"
   ]
  },
  {
   "cell_type": "code",
   "execution_count": null,
   "id": "4a11b8bb-03a6-4a0a-bbd3-7f43223adb15",
   "metadata": {},
   "outputs": [],
   "source": []
  },
  {
   "cell_type": "code",
   "execution_count": null,
   "id": "74525957-0fce-47a8-9ac6-02bfe44f4134",
   "metadata": {},
   "outputs": [],
   "source": [
    "for num in range(1,nums+1):\n",
    "    for ite in range(1,iterations+1):\n",
    "        pca = PCA(n_components = num)\n",
    "        "
   ]
  }
 ],
 "metadata": {
  "kernelspec": {
   "display_name": "Python 3 (ipykernel)",
   "language": "python",
   "name": "python3"
  },
  "language_info": {
   "codemirror_mode": {
    "name": "ipython",
    "version": 3
   },
   "file_extension": ".py",
   "mimetype": "text/x-python",
   "name": "python",
   "nbconvert_exporter": "python",
   "pygments_lexer": "ipython3",
   "version": "3.8.0"
  }
 },
 "nbformat": 4,
 "nbformat_minor": 5
}
