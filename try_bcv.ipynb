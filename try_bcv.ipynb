{
 "cells": [
  {
   "cell_type": "code",
   "execution_count": 1,
   "id": "bd908c11-50ce-4f7e-bc26-20c6dd225cf7",
   "metadata": {
    "execution": {
     "iopub.execute_input": "2021-10-05T16:31:06.548532Z",
     "iopub.status.busy": "2021-10-05T16:31:06.548532Z",
     "iopub.status.idle": "2021-10-05T16:31:09.361265Z",
     "shell.execute_reply": "2021-10-05T16:31:09.361265Z",
     "shell.execute_reply.started": "2021-10-05T16:31:06.548532Z"
    },
    "tags": []
   },
   "outputs": [],
   "source": [
    "import pandas as pd\n",
    "import math\n",
    "import numpy as np\n",
    "import random\n",
    "from sklearn.decomposition import PCA\n",
    "from sklearn.utils import shuffle\n",
    "from sklearn.preprocessing import scale\n",
    "import matplotlib.pyplot as plt\n",
    "from MEBF import MEBF, matrix_subtract, matrix_product\n",
    "import seaborn as sns\n",
    "import time\n",
    "import scipy\n",
    "%matplotlib inline"
   ]
  },
  {
   "cell_type": "code",
   "execution_count": 2,
   "id": "526f43bf-b4a6-48d7-89d0-c063eb428631",
   "metadata": {
    "execution": {
     "iopub.execute_input": "2021-10-05T16:31:09.362765Z",
     "iopub.status.busy": "2021-10-05T16:31:09.362765Z",
     "iopub.status.idle": "2021-10-05T16:31:09.439267Z",
     "shell.execute_reply": "2021-10-05T16:31:09.438767Z",
     "shell.execute_reply.started": "2021-10-05T16:31:09.362765Z"
    },
    "tags": []
   },
   "outputs": [],
   "source": [
    "data = pd.read_csv(\"gene.csv\",index_col = 0)"
   ]
  },
  {
   "cell_type": "code",
   "execution_count": 8,
   "id": "63cdedb1-42a6-469f-8805-89ee1fe3ed74",
   "metadata": {
    "execution": {
     "iopub.execute_input": "2021-10-05T16:31:45.146385Z",
     "iopub.status.busy": "2021-10-05T16:31:45.146385Z",
     "iopub.status.idle": "2021-10-05T16:31:45.331384Z",
     "shell.execute_reply": "2021-10-05T16:31:45.331384Z",
     "shell.execute_reply.started": "2021-10-05T16:31:45.146385Z"
    },
    "tags": []
   },
   "outputs": [
    {
     "data": {
      "text/plain": [
       "Text(0, 0.5, 'explained variance ratio(%)')"
      ]
     },
     "execution_count": 8,
     "metadata": {},
     "output_type": "execute_result"
    },
    {
     "data": {
      "image/png": "[encoded data removed]",
      "text/plain": [
       "<Figure size 720x504 with 1 Axes>"
      ]
     },
     "metadata": {
      "needs_background": "light"
     },
     "output_type": "display_data"
    }
   ],
   "source": [
    "from sklearn.preprocessing import scale\n",
    "data_norm = scale(data)\n",
    "pca = PCA(n_components = 'mle')\n",
    "pca.fit(data_norm)\n",
    "evr = pca.explained_variance_ratio_ * 100\n",
    "# 查看累计解释方差比率与主成分个数的关系\n",
    "fig, ax = plt.subplots(figsize=(10, 7))\n",
    "ax.plot(np.arange(1, len(evr) + 1), np.cumsum(evr), \"-ro\")\n",
    "ax.set_title(\"Cumulative Explained Variance Ratio\", fontsize=15)\n",
    "ax.set_xlabel(\"number of components\")\n",
    "ax.set_ylabel(\"explained variance ratio(%)\")"
   ]
  },
  {
   "cell_type": "code",
   "execution_count": 4,
   "id": "3cf3c2db-934e-46d1-b5e6-13833c1964e5",
   "metadata": {
    "execution": {
     "iopub.execute_input": "2021-10-05T16:31:33.147693Z",
     "iopub.status.busy": "2021-10-05T16:31:33.147693Z",
     "iopub.status.idle": "2021-10-05T16:31:33.238195Z",
     "shell.execute_reply": "2021-10-05T16:31:33.237692Z",
     "shell.execute_reply.started": "2021-10-05T16:31:33.147693Z"
    },
    "tags": []
   },
   "outputs": [
    {
     "data": {
      "text/plain": [
       "(23684, 2)"
      ]
     },
     "execution_count": 4,
     "metadata": {},
     "output_type": "execute_result"
    }
   ],
   "source": [
    "data_norm = scale(data)\n",
    "pca = PCA(n_components = 2)\n",
    "pca.fit(data_norm)\n",
    "pca_df = pca.transform(data_norm)\n",
    "pca_df.shape"
   ]
  },
  {
   "cell_type": "code",
   "execution_count": 5,
   "id": "2e513830-2928-4a3e-8b68-4d8fa0f691e3",
   "metadata": {
    "execution": {
     "iopub.execute_input": "2021-10-05T16:31:33.502191Z",
     "iopub.status.busy": "2021-10-05T16:31:33.502191Z",
     "iopub.status.idle": "2021-10-05T16:31:33.516692Z",
     "shell.execute_reply": "2021-10-05T16:31:33.516193Z",
     "shell.execute_reply.started": "2021-10-05T16:31:33.502191Z"
    },
    "tags": []
   },
   "outputs": [],
   "source": [
    "u = pca.components_.reshape([52,2])\n",
    "z = u.T.dot(data_norm.T)\n",
    "df_approx = u.dot(z).reshape(data.shape)"
   ]
  },
  {
   "cell_type": "code",
   "execution_count": 6,
   "id": "06c5ca8d-a420-4e66-9b6e-f68c2144c54b",
   "metadata": {
    "execution": {
     "iopub.execute_input": "2021-10-05T16:31:33.851873Z",
     "iopub.status.busy": "2021-10-05T16:31:33.851374Z",
     "iopub.status.idle": "2021-10-05T16:31:33.872371Z",
     "shell.execute_reply": "2021-10-05T16:31:33.871869Z",
     "shell.execute_reply.started": "2021-10-05T16:31:33.851374Z"
    },
    "tags": []
   },
   "outputs": [],
   "source": [
    "data_res = pd.DataFrame(data=(data_norm-df_approx),index = data.index, columns = data.columns)"
   ]
  },
  {
   "cell_type": "code",
   "execution_count": 7,
   "id": "a596100c-4c3f-4bc3-83eb-1d638482f201",
   "metadata": {
    "execution": {
     "iopub.execute_input": "2021-10-05T16:31:34.257663Z",
     "iopub.status.busy": "2021-10-05T16:31:34.257166Z",
     "iopub.status.idle": "2021-10-05T16:31:34.290163Z",
     "shell.execute_reply": "2021-10-05T16:31:34.289661Z",
     "shell.execute_reply.started": "2021-10-05T16:31:34.257663Z"
    },
    "tags": []
   },
   "outputs": [
    {
     "data": {
      "text/html": [
       "<div>\n",
       "<style scoped>\n",
       "    .dataframe tbody tr th:only-of-type {\n",
       "        vertical-align: middle;\n",
       "    }\n",
       "\n",
       "    .dataframe tbody tr th {\n",
       "        vertical-align: top;\n",
       "    }\n",
       "\n",
       "    .dataframe thead th {\n",
       "        text-align: right;\n",
       "    }\n",
       "</style>\n",
       "<table border=\"1\" class=\"dataframe\">\n",
       "  <thead>\n",
       "    <tr style=\"text-align: right;\">\n",
       "      <th></th>\n",
       "      <th>CY58_1_CD45_F08_S1028_comb</th>\n",
       "      <th>CY58_1_CD45_A05_S965_comb</th>\n",
       "      <th>CY58_1_CD45_D01_S997_comb</th>\n",
       "      <th>cy80.Cd45.pos.Pd1.neg.S293.E05.S293.comb</th>\n",
       "      <th>cy82.CD45.pos.3.A07.S7.comb</th>\n",
       "      <th>cy82.CD45.pos.3.B08.S20.comb</th>\n",
       "      <th>cy53.1.CD45.pos.2.A04.S964.comb</th>\n",
       "      <th>cy53.1.CD45.pos.1.D01.S37.comb</th>\n",
       "      <th>cy53.1.CD45.pos.2.B08.S980.comb</th>\n",
       "      <th>cy53.1.CD45.pos.1.F04.S64.comb</th>\n",
       "      <th>...</th>\n",
       "      <th>cy60_1_cd_45_pos_3_C04_S316_comb</th>\n",
       "      <th>CY89FNA_A03_S195_comb</th>\n",
       "      <th>CY88CD45POS_2_F07_S451_comb</th>\n",
       "      <th>CY88CD45_150813_D05_S329_comb</th>\n",
       "      <th>CY88CD45POS_2_G06_S462_comb</th>\n",
       "      <th>CY94CD45POS_1_E04_S148_comb</th>\n",
       "      <th>CY88CD45POS_2_F09_S453_comb</th>\n",
       "      <th>CY84_PRIM_POS_All_7_E07_S247_comb</th>\n",
       "      <th>CY84_PRIM_POS_All_7_B06_S210_comb</th>\n",
       "      <th>CY84_PRIM_POS_All_8_E10_S154_comb</th>\n",
       "    </tr>\n",
       "  </thead>\n",
       "  <tbody>\n",
       "    <tr>\n",
       "      <th>C9orf152</th>\n",
       "      <td>-0.046124</td>\n",
       "      <td>-3.545455</td>\n",
       "      <td>-0.062904</td>\n",
       "      <td>0.006041</td>\n",
       "      <td>-0.010713</td>\n",
       "      <td>-0.009014</td>\n",
       "      <td>-0.043557</td>\n",
       "      <td>-0.075699</td>\n",
       "      <td>-0.017701</td>\n",
       "      <td>-0.044791</td>\n",
       "      <td>...</td>\n",
       "      <td>-0.100306</td>\n",
       "      <td>-0.008015</td>\n",
       "      <td>-0.029219</td>\n",
       "      <td>-0.162966</td>\n",
       "      <td>-0.033382</td>\n",
       "      <td>0.008594</td>\n",
       "      <td>-0.022169</td>\n",
       "      <td>-0.000458</td>\n",
       "      <td>0.015679</td>\n",
       "      <td>0.007504</td>\n",
       "    </tr>\n",
       "    <tr>\n",
       "      <th>RPS11</th>\n",
       "      <td>9.229329</td>\n",
       "      <td>8.760094</td>\n",
       "      <td>2.113379</td>\n",
       "      <td>2.894422</td>\n",
       "      <td>0.841377</td>\n",
       "      <td>5.114128</td>\n",
       "      <td>7.937011</td>\n",
       "      <td>4.039091</td>\n",
       "      <td>17.063287</td>\n",
       "      <td>7.272768</td>\n",
       "      <td>...</td>\n",
       "      <td>4.690430</td>\n",
       "      <td>2.870081</td>\n",
       "      <td>7.721619</td>\n",
       "      <td>7.468801</td>\n",
       "      <td>10.606953</td>\n",
       "      <td>7.092032</td>\n",
       "      <td>3.268144</td>\n",
       "      <td>-0.087569</td>\n",
       "      <td>1.324649</td>\n",
       "      <td>3.287528</td>\n",
       "    </tr>\n",
       "    <tr>\n",
       "      <th>ELMO2</th>\n",
       "      <td>1.229986</td>\n",
       "      <td>-0.047597</td>\n",
       "      <td>-0.042117</td>\n",
       "      <td>-0.079039</td>\n",
       "      <td>0.003833</td>\n",
       "      <td>0.149355</td>\n",
       "      <td>-0.027639</td>\n",
       "      <td>-0.025661</td>\n",
       "      <td>0.089242</td>\n",
       "      <td>-0.022666</td>\n",
       "      <td>...</td>\n",
       "      <td>-0.060442</td>\n",
       "      <td>-0.007436</td>\n",
       "      <td>1.495882</td>\n",
       "      <td>0.004034</td>\n",
       "      <td>-0.033106</td>\n",
       "      <td>-0.000725</td>\n",
       "      <td>-0.053493</td>\n",
       "      <td>0.000876</td>\n",
       "      <td>1.008937</td>\n",
       "      <td>0.007504</td>\n",
       "    </tr>\n",
       "  </tbody>\n",
       "</table>\n",
       "<p>3 rows × 52 columns</p>\n",
       "</div>"
      ],
      "text/plain": [
       "          CY58_1_CD45_F08_S1028_comb  CY58_1_CD45_A05_S965_comb  \\\n",
       "C9orf152                   -0.046124                  -3.545455   \n",
       "RPS11                       9.229329                   8.760094   \n",
       "ELMO2                       1.229986                  -0.047597   \n",
       "\n",
       "          CY58_1_CD45_D01_S997_comb  cy80.Cd45.pos.Pd1.neg.S293.E05.S293.comb  \\\n",
       "C9orf152                  -0.062904                                  0.006041   \n",
       "RPS11                      2.113379                                  2.894422   \n",
       "ELMO2                     -0.042117                                 -0.079039   \n",
       "\n",
       "          cy82.CD45.pos.3.A07.S7.comb  cy82.CD45.pos.3.B08.S20.comb  \\\n",
       "C9orf152                    -0.010713                     -0.009014   \n",
       "RPS11                        0.841377                      5.114128   \n",
       "ELMO2                        0.003833                      0.149355   \n",
       "\n",
       "          cy53.1.CD45.pos.2.A04.S964.comb  cy53.1.CD45.pos.1.D01.S37.comb  \\\n",
       "C9orf152                        -0.043557                       -0.075699   \n",
       "RPS11                            7.937011                        4.039091   \n",
       "ELMO2                           -0.027639                       -0.025661   \n",
       "\n",
       "          cy53.1.CD45.pos.2.B08.S980.comb  cy53.1.CD45.pos.1.F04.S64.comb  \\\n",
       "C9orf152                        -0.017701                       -0.044791   \n",
       "RPS11                           17.063287                        7.272768   \n",
       "ELMO2                            0.089242                       -0.022666   \n",
       "\n",
       "          ...  cy60_1_cd_45_pos_3_C04_S316_comb  CY89FNA_A03_S195_comb  \\\n",
       "C9orf152  ...                         -0.100306              -0.008015   \n",
       "RPS11     ...                          4.690430               2.870081   \n",
       "ELMO2     ...                         -0.060442              -0.007436   \n",
       "\n",
       "          CY88CD45POS_2_F07_S451_comb  CY88CD45_150813_D05_S329_comb  \\\n",
       "C9orf152                    -0.029219                      -0.162966   \n",
       "RPS11                        7.721619                       7.468801   \n",
       "ELMO2                        1.495882                       0.004034   \n",
       "\n",
       "          CY88CD45POS_2_G06_S462_comb  CY94CD45POS_1_E04_S148_comb  \\\n",
       "C9orf152                    -0.033382                     0.008594   \n",
       "RPS11                       10.606953                     7.092032   \n",
       "ELMO2                       -0.033106                    -0.000725   \n",
       "\n",
       "          CY88CD45POS_2_F09_S453_comb  CY84_PRIM_POS_All_7_E07_S247_comb  \\\n",
       "C9orf152                    -0.022169                          -0.000458   \n",
       "RPS11                        3.268144                          -0.087569   \n",
       "ELMO2                       -0.053493                           0.000876   \n",
       "\n",
       "          CY84_PRIM_POS_All_7_B06_S210_comb  CY84_PRIM_POS_All_8_E10_S154_comb  \n",
       "C9orf152                           0.015679                           0.007504  \n",
       "RPS11                              1.324649                           3.287528  \n",
       "ELMO2                              1.008937                           0.007504  \n",
       "\n",
       "[3 rows x 52 columns]"
      ]
     },
     "execution_count": 7,
     "metadata": {},
     "output_type": "execute_result"
    }
   ],
   "source": [
    "data_res.head(3)"
   ]
  },
  {
   "cell_type": "code",
   "execution_count": 64,
   "id": "4ed76506-80a3-420f-8359-e9819616aa2a",
   "metadata": {
    "execution": {
     "iopub.execute_input": "2021-09-30T02:41:29.781199Z",
     "iopub.status.busy": "2021-09-30T02:41:29.781199Z",
     "iopub.status.idle": "2021-09-30T02:41:30.790700Z",
     "shell.execute_reply": "2021-09-30T02:41:30.790200Z",
     "shell.execute_reply.started": "2021-09-30T02:41:29.781199Z"
    },
    "tags": []
   },
   "outputs": [
    {
     "data": {
      "text/plain": [
       "<AxesSubplot:>"
      ]
     },
     "execution_count": 64,
     "metadata": {},
     "output_type": "execute_result"
    },
    {
     "data": {
      "image/png": "[encoded data removed]",
      "text/plain": [
       "<Figure size 432x288 with 2 Axes>"
      ]
     },
     "metadata": {
      "needs_background": "light"
     },
     "output_type": "display_data"
    }
   ],
   "source": [
    "sns.heatmap(data_res, annot=False, vmin=-1, vmax=1, cmap=\"tab20\")"
   ]
  },
  {
   "cell_type": "code",
   "execution_count": 11,
   "id": "7b184f2c-8dd5-47ec-b1b2-2dc1f8bbfad5",
   "metadata": {
    "execution": {
     "iopub.execute_input": "2021-09-30T00:57:58.536808Z",
     "iopub.status.busy": "2021-09-30T00:57:58.536308Z",
     "iopub.status.idle": "2021-09-30T00:57:58.620308Z",
     "shell.execute_reply": "2021-09-30T00:57:58.620308Z",
     "shell.execute_reply.started": "2021-09-30T00:57:58.536808Z"
    }
   },
   "outputs": [],
   "source": [
    "x_in_paper = pd.DataFrame(np.array([[1,1,0,1,1,1,0,1,0,0,0],[1,1,1,1,1,1,1,1,1,1,1],[1,1,0,1,1,1,1,0,1,0,1],\n",
    "         [0,1,0,0,0,0,0,0,0,0,0],[1,1,1,1,1,1,1,1,1,0,0],[1,1,1,1,1,1,1,0,1,0,0],\n",
    "         [0,0,0,1,0,0,0,0,0,0,0],[1,1,1,1,1,1,1,1,1,1,0],[1,1,0,1,0,1,1,0,0,0,0],\n",
    "         [1,1,1,1,1,0,0,0,0,0,0,],[1,1,0,1,1,0,0,0,0,0,0]]), index = range(1,12), columns = range(1,12))\n",
    "A,B = MEBF(x_in_paper,0.8)"
   ]
  },
  {
   "cell_type": "code",
   "execution_count": 12,
   "id": "62d974b2-487c-47a1-8584-1da12efc036e",
   "metadata": {
    "execution": {
     "iopub.execute_input": "2021-09-30T00:57:59.083257Z",
     "iopub.status.busy": "2021-09-30T00:57:59.082755Z",
     "iopub.status.idle": "2021-09-30T00:57:59.209256Z",
     "shell.execute_reply": "2021-09-30T00:57:59.208754Z",
     "shell.execute_reply.started": "2021-09-30T00:57:59.083257Z"
    }
   },
   "outputs": [
    {
     "data": {
      "text/plain": [
       "<AxesSubplot:>"
      ]
     },
     "execution_count": 12,
     "metadata": {},
     "output_type": "execute_result"
    },
    {
     "data": {
      "image/png": "[encoded data removed]",
      "text/plain": [
       "<Figure size 432x288 with 2 Axes>"
      ]
     },
     "metadata": {
      "needs_background": "light"
     },
     "output_type": "display_data"
    }
   ],
   "source": [
    "sns.heatmap(matrix_subtract(x_in_paper.values, matrix_product(A.values, B.values)), annot=False, vmin=0, vmax=1)"
   ]
  },
  {
   "cell_type": "markdown",
   "id": "a173701b-ed60-4730-9dfb-ee4f354df654",
   "metadata": {},
   "source": [
    "# Now focus on BCV, to see what it could bring to us"
   ]
  },
  {
   "cell_type": "markdown",
   "id": "7442a367-2ee3-4f39-a2f1-94cb0e4cfd4d",
   "metadata": {},
   "source": [
    "# To satisfy T test, iteration >= 30 is set."
   ]
  },
  {
   "cell_type": "code",
   "execution_count": 78,
   "id": "316fe156-560f-4882-a026-2913bd74dbcb",
   "metadata": {
    "execution": {
     "iopub.execute_input": "2021-10-05T02:37:33.693280Z",
     "iopub.status.busy": "2021-10-05T02:37:33.693280Z",
     "iopub.status.idle": "2021-10-05T02:37:33.700281Z",
     "shell.execute_reply": "2021-10-05T02:37:33.700281Z",
     "shell.execute_reply.started": "2021-10-05T02:37:33.693280Z"
    },
    "tags": []
   },
   "outputs": [],
   "source": [
    "def bcv(data,times=20, num_comps=20, left_1=5, left_2=5):\n",
    "    # times = 15\n",
    "    # num_comps = 25\n",
    "    x = pd.DataFrame(scale(data),index = data.index, columns = data.columns)\n",
    "    error = pd.DataFrame(index = range(1,times+1), columns = range(1,num_comps+1))\n",
    "    # iterate over number of components\n",
    "    for num in range(1,num_comps+1):\n",
    "        for time in range(1,times+1):\n",
    "            # shuffle x\n",
    "            x = x[np.random.permutation(x.columns)]\n",
    "            x = x.reindex(np.random.permutation(x.index))\n",
    "            # Since it is (23684,52), submatrix size is chosen as (100,5)\n",
    "            # leave out submatrix\n",
    "            A = x.values[:left_1,:left_2]\n",
    "            B = x.values[:left_1,left_2:]\n",
    "            C = x.values[left_1:,:left_2]\n",
    "            D = x.values[left_1:,left_2:]\n",
    "            # perform PCA\n",
    "            pca = PCA(n_components = num)\n",
    "            pca.fit(D)\n",
    "            u = pca.components_.reshape([D.shape[1],-1])\n",
    "            z = u.T.dot(D.T)\n",
    "            D_approx = u.dot(z).reshape(D.shape)\n",
    "            residule = np.dot( np.dot(B,np.linalg.pinv(D_approx)), C) - A\n",
    "            error.loc[time][num] = sum(np.abs(residule)).sum()\n",
    "    return error"
   ]
  },
  {
   "cell_type": "markdown",
   "id": "dbf3b379-3ff8-4321-9dd5-aecdc2899317",
   "metadata": {},
   "source": [
    "## 1) Try small submatrix"
   ]
  },
  {
   "cell_type": "code",
   "execution_count": 83,
   "id": "76987a83-374d-43b5-8810-5f6faa1cafae",
   "metadata": {
    "execution": {
     "iopub.execute_input": "2021-10-05T02:44:57.863938Z",
     "iopub.status.busy": "2021-10-05T02:44:57.863938Z",
     "iopub.status.idle": "2021-10-05T02:45:33.533443Z",
     "shell.execute_reply": "2021-10-05T02:45:33.532942Z",
     "shell.execute_reply.started": "2021-10-05T02:44:57.863938Z"
    },
    "tags": []
   },
   "outputs": [
    {
     "name": "stdout",
     "output_type": "stream",
     "text": [
      "Meaningful component between  1 2 False\n",
      "Meaningful component between  2 3 True\n",
      "Meaningful component between  3 4 True\n",
      "Meaningful component between  4 5 True\n",
      "Meaningful component between  5 6 True\n",
      "Meaningful component between  6 7 True\n",
      "Meaningful component between  7 8 True\n",
      "Meaningful component between  8 9 True\n",
      "Meaningful component between  9 10 True\n",
      "Meaningful component between  10 11 True\n",
      "Meaningful component between  11 12 True\n",
      "Meaningful component between  12 13 True\n",
      "Meaningful component between  13 14 True\n",
      "Meaningful component between  14 15 True\n",
      "Meaningful component between  15 16 True\n",
      "Meaningful component between  16 17 True\n",
      "Meaningful component between  17 18 True\n",
      "Meaningful component between  18 19 True\n",
      "Meaningful component between  19 20 True\n"
     ]
    }
   ],
   "source": [
    "times = 30\n",
    "num_comps = 20\n",
    "error_1 = bcv(pre,times,num_comps,5,5)\n",
    "for i in range(1,num_comps):\n",
    "    print(\"Meaningful component between \",i, i+1, \n",
    "          (ttest_ind(error_1[i],error_1[i+1], equal_var = False).pvalue >= 0.05))"
   ]
  },
  {
   "cell_type": "markdown",
   "id": "1bcc1a08-852e-4a4d-a005-1fe08ec42d99",
   "metadata": {
    "execution": {
     "iopub.execute_input": "2021-10-05T02:23:56.869310Z",
     "iopub.status.busy": "2021-10-05T02:23:56.868810Z",
     "iopub.status.idle": "2021-10-05T02:23:56.882310Z",
     "shell.execute_reply": "2021-10-05T02:23:56.881809Z",
     "shell.execute_reply.started": "2021-10-05T02:23:56.869310Z"
    }
   },
   "source": [
    "## 2) Try large submatrix"
   ]
  },
  {
   "cell_type": "code",
   "execution_count": 84,
   "id": "7ac9a79e-cee6-4cf6-b6df-234ae7c2b142",
   "metadata": {
    "execution": {
     "iopub.execute_input": "2021-10-05T02:45:33.534441Z",
     "iopub.status.busy": "2021-10-05T02:45:33.534441Z",
     "iopub.status.idle": "2021-10-05T02:46:09.601439Z",
     "shell.execute_reply": "2021-10-05T02:46:09.601439Z",
     "shell.execute_reply.started": "2021-10-05T02:45:33.534441Z"
    },
    "tags": []
   },
   "outputs": [
    {
     "name": "stdout",
     "output_type": "stream",
     "text": [
      "Meaningful component between  1 2 True\n",
      "Meaningful component between  2 3 True\n",
      "Meaningful component between  3 4 True\n",
      "Meaningful component between  4 5 True\n",
      "Meaningful component between  5 6 True\n",
      "Meaningful component between  6 7 True\n",
      "Meaningful component between  7 8 True\n",
      "Meaningful component between  8 9 True\n",
      "Meaningful component between  9 10 True\n",
      "Meaningful component between  10 11 False\n",
      "Meaningful component between  11 12 True\n",
      "Meaningful component between  12 13 True\n",
      "Meaningful component between  13 14 True\n",
      "Meaningful component between  14 15 True\n",
      "Meaningful component between  15 16 True\n",
      "Meaningful component between  16 17 True\n",
      "Meaningful component between  17 18 True\n",
      "Meaningful component between  18 19 True\n",
      "Meaningful component between  19 20 True\n"
     ]
    }
   ],
   "source": [
    "times = 30\n",
    "num_comps = 20\n",
    "error_2 = bcv(pre,times,num_comps,20,5)\n",
    "for i in range(1,num_comps):\n",
    "    print(\"Meaningful component between \",i, i+1, \n",
    "          (ttest_ind(error_2[i],error_2[i+1], equal_var = False).pvalue >= 0.05))"
   ]
  },
  {
   "cell_type": "markdown",
   "id": "731c8b29-566c-4a61-b66f-3ad4bf4bcae6",
   "metadata": {},
   "source": [
    "## 3) Even larger"
   ]
  },
  {
   "cell_type": "code",
   "execution_count": 85,
   "id": "1966af8a-de22-42dc-98fd-61b6e5bc3441",
   "metadata": {
    "execution": {
     "iopub.execute_input": "2021-10-05T02:46:42.089119Z",
     "iopub.status.busy": "2021-10-05T02:46:42.089119Z",
     "iopub.status.idle": "2021-10-05T02:47:19.740120Z",
     "shell.execute_reply": "2021-10-05T02:47:19.739620Z",
     "shell.execute_reply.started": "2021-10-05T02:46:42.089119Z"
    }
   },
   "outputs": [
    {
     "name": "stdout",
     "output_type": "stream",
     "text": [
      "Meaningful component between  1 2 True\n",
      "Meaningful component between  2 3 True\n",
      "Meaningful component between  3 4 True\n",
      "Meaningful component between  4 5 True\n",
      "Meaningful component between  5 6 True\n",
      "Meaningful component between  6 7 True\n",
      "Meaningful component between  7 8 False\n",
      "Meaningful component between  8 9 True\n",
      "Meaningful component between  9 10 True\n",
      "Meaningful component between  10 11 True\n",
      "Meaningful component between  11 12 True\n",
      "Meaningful component between  12 13 False\n",
      "Meaningful component between  13 14 True\n",
      "Meaningful component between  14 15 True\n",
      "Meaningful component between  15 16 True\n",
      "Meaningful component between  16 17 True\n",
      "Meaningful component between  17 18 True\n",
      "Meaningful component between  18 19 True\n",
      "Meaningful component between  19 20 True\n"
     ]
    }
   ],
   "source": [
    "times = 30\n",
    "num_comps = 20\n",
    "error_3 = bcv(pre,times,num_comps,40,5)\n",
    "for i in range(1,num_comps):\n",
    "    print(\"Meaningful component between \",i, i+1, \n",
    "          (ttest_ind(error_3[i],error_3[i+1], equal_var = False).pvalue >= 0.05))"
   ]
  },
  {
   "cell_type": "markdown",
   "id": "7a876409-e1c5-4120-a8ac-3c4f121018ea",
   "metadata": {},
   "source": [
    "## How about leave out 3%, 5%, 7%, 10%"
   ]
  },
  {
   "cell_type": "code",
   "execution_count": 90,
   "id": "536fb8c1-1a87-4178-b375-16f3ae994ac1",
   "metadata": {
    "execution": {
     "iopub.execute_input": "2021-10-05T03:10:32.776090Z",
     "iopub.status.busy": "2021-10-05T03:10:32.776090Z",
     "iopub.status.idle": "2021-10-05T03:11:20.413593Z",
     "shell.execute_reply": "2021-10-05T03:11:20.413091Z",
     "shell.execute_reply.started": "2021-10-05T03:10:32.776090Z"
    },
    "tags": []
   },
   "outputs": [
    {
     "name": "stdout",
     "output_type": "stream",
     "text": [
      "Meaningful component between  1 2 True\n",
      "Meaningful component between  2 3 True\n",
      "Meaningful component between  3 4 True\n",
      "Meaningful component between  4 5 True\n",
      "Meaningful component between  5 6 True\n",
      "Meaningful component between  6 7 True\n",
      "Meaningful component between  7 8 True\n",
      "Meaningful component between  8 9 False\n",
      "Meaningful component between  9 10 True\n",
      "Meaningful component between  10 11 True\n",
      "Meaningful component between  11 12 True\n",
      "Meaningful component between  12 13 True\n",
      "Meaningful component between  13 14 True\n",
      "Meaningful component between  14 15 True\n",
      "Meaningful component between  15 16 True\n",
      "Meaningful component between  16 17 True\n",
      "Meaningful component between  17 18 True\n",
      "Meaningful component between  18 19 True\n",
      "Meaningful component between  19 20 True\n"
     ]
    }
   ],
   "source": [
    "times = 30\n",
    "num_comps = 20\n",
    "error_3p = bcv(pre,times,num_comps,round(pre.shape[0]*0.03),round(pre.shape[1]*0.03))\n",
    "for i in range(1,num_comps):\n",
    "    print(\"Meaningful component between \",i, i+1, \n",
    "          (ttest_ind(error_3p[i],error_3p[i+1], equal_var = False).pvalue >= 0.05))"
   ]
  },
  {
   "cell_type": "code",
   "execution_count": 97,
   "id": "f3541abb-6fae-4053-95a7-0c9cee9d439e",
   "metadata": {
    "execution": {
     "iopub.execute_input": "2021-10-05T03:22:31.892704Z",
     "iopub.status.busy": "2021-10-05T03:22:31.892204Z",
     "iopub.status.idle": "2021-10-05T03:23:26.113202Z",
     "shell.execute_reply": "2021-10-05T03:23:26.112702Z",
     "shell.execute_reply.started": "2021-10-05T03:22:31.892704Z"
    },
    "tags": []
   },
   "outputs": [
    {
     "name": "stdout",
     "output_type": "stream",
     "text": [
      "Meaningful component between  1 2 True\n",
      "Meaningful component between  2 3 True\n",
      "Meaningful component between  3 4 True\n",
      "Meaningful component between  4 5 True\n",
      "Meaningful component between  5 6 False\n",
      "Meaningful component between  6 7 True\n",
      "Meaningful component between  7 8 True\n",
      "Meaningful component between  8 9 True\n",
      "Meaningful component between  9 10 True\n",
      "Meaningful component between  10 11 True\n",
      "Meaningful component between  11 12 True\n",
      "Meaningful component between  12 13 True\n",
      "Meaningful component between  13 14 True\n",
      "Meaningful component between  14 15 True\n",
      "Meaningful component between  15 16 True\n",
      "Meaningful component between  16 17 True\n",
      "Meaningful component between  17 18 True\n",
      "Meaningful component between  18 19 True\n",
      "Meaningful component between  19 20 True\n"
     ]
    }
   ],
   "source": [
    "times = 30\n",
    "num_comps = 20\n",
    "error_5p = bcv(pre,times,num_comps,round(pre.shape[0]*0.05),round(pre.shape[1]*0.05))\n",
    "for i in range(1,num_comps):\n",
    "    print(\"Meaningful component between \",i, i+1, \n",
    "          (ttest_ind(error_5p[i],error_5p[i+1], equal_var = False).pvalue >= 0.05))"
   ]
  },
  {
   "cell_type": "code",
   "execution_count": 101,
   "id": "5bc6c70f-651e-4db0-b871-018aa80d1d2b",
   "metadata": {
    "execution": {
     "iopub.execute_input": "2021-10-05T03:38:23.338138Z",
     "iopub.status.busy": "2021-10-05T03:38:23.338138Z",
     "iopub.status.idle": "2021-10-05T03:39:23.870638Z",
     "shell.execute_reply": "2021-10-05T03:39:23.870638Z",
     "shell.execute_reply.started": "2021-10-05T03:38:23.338138Z"
    },
    "tags": []
   },
   "outputs": [
    {
     "name": "stdout",
     "output_type": "stream",
     "text": [
      "Meaningful component between  1 2 True\n",
      "Meaningful component between  2 3 True\n",
      "Meaningful component between  3 4 True\n",
      "Meaningful component between  4 5 True\n",
      "Meaningful component between  5 6 True\n",
      "Meaningful component between  6 7 True\n",
      "Meaningful component between  7 8 True\n",
      "Meaningful component between  8 9 True\n",
      "Meaningful component between  9 10 True\n",
      "Meaningful component between  10 11 True\n",
      "Meaningful component between  11 12 False\n",
      "Meaningful component between  12 13 False\n",
      "Meaningful component between  13 14 False\n",
      "Meaningful component between  14 15 True\n",
      "Meaningful component between  15 16 True\n",
      "Meaningful component between  16 17 True\n",
      "Meaningful component between  17 18 True\n",
      "Meaningful component between  18 19 False\n",
      "Meaningful component between  19 20 True\n"
     ]
    }
   ],
   "source": [
    "times = 30\n",
    "num_comps = 20\n",
    "error_7p = bcv(pre,times,num_comps,round(pre.shape[0]*0.07),round(pre.shape[1]*0.07))\n",
    "for i in range(1,num_comps):\n",
    "    print(\"Meaningful component between \",i, i+1, \n",
    "          (ttest_ind(error_7p[i],error_7p[i+1], equal_var = False).pvalue >= 0.05))"
   ]
  },
  {
   "cell_type": "code",
   "execution_count": 93,
   "id": "8e8584ae-7faa-467d-bfd2-35487c3b9c0e",
   "metadata": {
    "execution": {
     "iopub.execute_input": "2021-10-05T03:13:14.913093Z",
     "iopub.status.busy": "2021-10-05T03:13:14.913093Z",
     "iopub.status.idle": "2021-10-05T03:14:24.057090Z",
     "shell.execute_reply": "2021-10-05T03:14:24.056591Z",
     "shell.execute_reply.started": "2021-10-05T03:13:14.913093Z"
    }
   },
   "outputs": [
    {
     "name": "stdout",
     "output_type": "stream",
     "text": [
      "Meaningful component between  1 2 True\n",
      "Meaningful component between  2 3 True\n",
      "Meaningful component between  3 4 True\n",
      "Meaningful component between  4 5 True\n",
      "Meaningful component between  5 6 True\n",
      "Meaningful component between  6 7 True\n",
      "Meaningful component between  7 8 True\n",
      "Meaningful component between  8 9 True\n",
      "Meaningful component between  9 10 True\n",
      "Meaningful component between  10 11 True\n",
      "Meaningful component between  11 12 True\n",
      "Meaningful component between  12 13 True\n",
      "Meaningful component between  13 14 True\n",
      "Meaningful component between  14 15 True\n",
      "Meaningful component between  15 16 True\n",
      "Meaningful component between  16 17 True\n",
      "Meaningful component between  17 18 True\n",
      "Meaningful component between  18 19 True\n",
      "Meaningful component between  19 20 True\n"
     ]
    }
   ],
   "source": [
    "times = 30\n",
    "num_comps = 20\n",
    "error_10p = bcv(pre,times,num_comps,round(pre.shape[0]*0.1),round(pre.shape[1]*0.1))\n",
    "for i in range(1,num_comps):\n",
    "    print(\"Meaningful component between \",i, i+1, \n",
    "          (ttest_ind(error_10p[i],error_10p[i+1], equal_var = False).pvalue >= 0.05))"
   ]
  },
  {
   "cell_type": "markdown",
   "id": "2ed73be9-1cf1-4087-bb8b-3c87c51c2b67",
   "metadata": {},
   "source": [
    "## Personally, I prefer 5%"
   ]
  },
  {
   "cell_type": "code",
   "execution_count": 111,
   "id": "c25766e4-49b8-485e-ad50-c6f21191334a",
   "metadata": {
    "execution": {
     "iopub.execute_input": "2021-10-05T04:13:04.936695Z",
     "iopub.status.busy": "2021-10-05T04:13:04.936195Z",
     "iopub.status.idle": "2021-10-05T04:14:01.861695Z",
     "shell.execute_reply": "2021-10-05T04:14:01.861695Z",
     "shell.execute_reply.started": "2021-10-05T04:13:04.936695Z"
    },
    "tags": []
   },
   "outputs": [
    {
     "name": "stdout",
     "output_type": "stream",
     "text": [
      "Meaningful component between  1 2 True\n",
      "Meaningful component between  2 3 True\n",
      "Meaningful component between  3 4 True\n",
      "Meaningful component between  4 5 True\n",
      "Meaningful component between  5 6 True\n",
      "Meaningful component between  6 7 True\n",
      "Meaningful component between  7 8 True\n",
      "Meaningful component between  8 9 True\n",
      "Meaningful component between  9 10 True\n",
      "Meaningful component between  10 11 True\n",
      "Meaningful component between  11 12 True\n",
      "Meaningful component between  12 13 True\n",
      "Meaningful component between  13 14 True\n",
      "Meaningful component between  14 15 True\n",
      "Meaningful component between  15 16 True\n",
      "Meaningful component between  16 17 True\n",
      "Meaningful component between  17 18 True\n",
      "Meaningful component between  18 19 True\n",
      "Meaningful component between  19 20 True\n"
     ]
    }
   ],
   "source": [
    "times = 30\n",
    "num_comps = 20\n",
    "error_t = bcv(pre,times,num_comps,round(pre.shape[0]*0.05),round(pre.shape[1]*0.05))\n",
    "candidate = []\n",
    "for i in range(1,num_comps):\n",
    "    print(\"Meaningful component between \",i, i+1, \n",
    "          (ttest_ind(error_t[i],error_t[i+1], equal_var = False).pvalue >= 0.05))\n",
    "    if (not (ttest_ind(error_t[i],error_t[i+1], equal_var = False).pvalue >= 0.05)):\n",
    "        candidate.append(i+1)"
   ]
  },
  {
   "cell_type": "code",
   "execution_count": 112,
   "id": "e2287601-f33f-420e-9569-6207c568bb81",
   "metadata": {
    "execution": {
     "iopub.execute_input": "2021-10-05T04:14:01.863697Z",
     "iopub.status.busy": "2021-10-05T04:14:01.863697Z",
     "iopub.status.idle": "2021-10-05T04:14:01.877695Z",
     "shell.execute_reply": "2021-10-05T04:14:01.877196Z",
     "shell.execute_reply.started": "2021-10-05T04:14:01.863697Z"
    },
    "tags": []
   },
   "outputs": [
    {
     "data": {
      "text/plain": [
       "[]"
      ]
     },
     "execution_count": 112,
     "metadata": {},
     "output_type": "execute_result"
    }
   ],
   "source": [
    "candidate"
   ]
  },
  {
   "cell_type": "code",
   "execution_count": null,
   "id": "bf64371c-186e-4ba8-9761-927808640e8c",
   "metadata": {},
   "outputs": [],
   "source": []
  }
 ],
 "metadata": {
  "kernelspec": {
   "display_name": "Python 3 (ipykernel)",
   "language": "python",
   "name": "python3"
  },
  "language_info": {
   "codemirror_mode": {
    "name": "ipython",
    "version": 3
   },
   "file_extension": ".py",
   "mimetype": "text/x-python",
   "name": "python",
   "nbconvert_exporter": "python",
   "pygments_lexer": "ipython3",
   "version": "3.8.0"
  }
 },
 "nbformat": 4,
 "nbformat_minor": 5
}
