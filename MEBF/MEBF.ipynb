{
 "cells": [
  {
   "cell_type": "code",
   "execution_count": 1,
   "id": "bd908c11-50ce-4f7e-bc26-20c6dd225cf7",
   "metadata": {
    "execution": {
     "iopub.execute_input": "2021-10-12T19:53:06.087576Z",
     "iopub.status.busy": "2021-10-12T19:53:06.087076Z",
     "iopub.status.idle": "2021-10-12T19:53:07.065576Z",
     "shell.execute_reply": "2021-10-12T19:53:07.065075Z",
     "shell.execute_reply.started": "2021-10-12T19:53:06.087576Z"
    }
   },
   "outputs": [],
   "source": [
    "import pandas as pd\n",
    "import math\n",
    "import numpy as np\n",
    "import random\n",
    "from sklearn.decomposition import PCA\n",
    "import matplotlib.pyplot as plt\n",
    "import seaborn as sns\n",
    "%matplotlib inline"
   ]
  },
  {
   "cell_type": "markdown",
   "id": "ffcd78ff-4b44-4cdb-95bf-bac527b0ac18",
   "metadata": {},
   "source": [
    "## MEBF"
   ]
  },
  {
   "cell_type": "code",
   "execution_count": 2,
   "id": "7e3a1d64-feb2-4d3e-8ee1-d9784df3ef58",
   "metadata": {
    "execution": {
     "iopub.execute_input": "2021-10-12T19:53:07.066576Z",
     "iopub.status.busy": "2021-10-12T19:53:07.066077Z",
     "iopub.status.idle": "2021-10-12T19:53:07.081078Z",
     "shell.execute_reply": "2021-10-12T19:53:07.080576Z",
     "shell.execute_reply.started": "2021-10-12T19:53:07.066576Z"
    }
   },
   "outputs": [],
   "source": [
    "def matrix_product(a,b):\n",
    "    # follow online instruction of binary matrix production\n",
    "    # https://www2.math.upenn.edu/~deturck/m170/wk8/lecture/matrix.html\n",
    "    x = np.zeros([a.shape[0],b.shape[1]])\n",
    "    for i in range(x.shape[0]):\n",
    "        for j in range(x.shape[1]):\n",
    "            sum = 0\n",
    "            for k in range(b.shape[0]):\n",
    "                sum += (a[i,k]*b[k,j])\n",
    "            x[i,j] = sum % 2\n",
    "    return x"
   ]
  },
  {
   "cell_type": "code",
   "execution_count": 3,
   "id": "69f5ba9f-0c23-4bc7-a666-fef1092183b9",
   "metadata": {
    "execution": {
     "iopub.execute_input": "2021-10-12T19:53:07.082076Z",
     "iopub.status.busy": "2021-10-12T19:53:07.081576Z",
     "iopub.status.idle": "2021-10-12T19:53:07.096576Z",
     "shell.execute_reply": "2021-10-12T19:53:07.096075Z",
     "shell.execute_reply.started": "2021-10-12T19:53:07.082076Z"
    }
   },
   "outputs": [],
   "source": [
    "def matrix_product_paper(a,b):\n",
    "    x = np.zeros([a.shape[0],b.shape[1]])\n",
    "    for i in range(x.shape[0]):\n",
    "        for j in range(x.shape[1]):\n",
    "            for k in range(a.shape[1]):\n",
    "                if (a[i,k] or b[k,j]) == 1:\n",
    "                    tmp = 1\n",
    "                    break;\n",
    "                else:\n",
    "                    tmp = 0\n",
    "            x[i,j] = tmp\n",
    "    return x"
   ]
  },
  {
   "cell_type": "code",
   "execution_count": 4,
   "id": "b21e3108-4702-4e76-8390-949762fb21b0",
   "metadata": {
    "execution": {
     "iopub.execute_input": "2021-10-12T19:53:07.118076Z",
     "iopub.status.busy": "2021-10-12T19:53:07.118076Z",
     "iopub.status.idle": "2021-10-12T19:53:07.127578Z",
     "shell.execute_reply": "2021-10-12T19:53:07.127076Z",
     "shell.execute_reply.started": "2021-10-12T19:53:07.118076Z"
    }
   },
   "outputs": [],
   "source": [
    "def matrix_subtract(a,b):\n",
    "    \"\"\"\n",
    "    parameter:\n",
    "        a, of shape m*n\n",
    "        b, of shape m*n\n",
    "    return:\n",
    "        res, of shape m*n\n",
    "    \"\"\"\n",
    "    res = np.zeros(a.shape)\n",
    "    for i in range(a.shape[0]):\n",
    "        for j in range(a.shape[1]):\n",
    "            res[i][j] = int((a[i][j] and (not b[i][j])) or ((not a[i][j]) and b[i][j]))\n",
    "    return res"
   ]
  },
  {
   "cell_type": "code",
   "execution_count": 5,
   "id": "a3ff2b0a-c1bf-4ccd-a2e5-2d5f064f71c5",
   "metadata": {
    "execution": {
     "iopub.execute_input": "2021-10-12T19:53:07.587378Z",
     "iopub.status.busy": "2021-10-12T19:53:07.586879Z",
     "iopub.status.idle": "2021-10-12T19:53:07.591880Z",
     "shell.execute_reply": "2021-10-12T19:53:07.591880Z",
     "shell.execute_reply.started": "2021-10-12T19:53:07.587378Z"
    }
   },
   "outputs": [],
   "source": [
    "def reconstruct(x,d,e,f,g):\n",
    "    # reconstruct matrix based on cols\n",
    "    col_df_1 = pd.DataFrame(d.reshape(-1,1), index =x.index) # m x 1 matrix, samples\n",
    "    col_df_2 = pd.DataFrame(np.array(e).reshape(1,-1), columns = x.columns) # 1 x n matrix, features\n",
    "    col_df_1.sort_index(axis = 0, inplace=True)\n",
    "    col_df_2.sort_index(axis = 1, inplace=True)\n",
    "    # reconstruct matrix based on rows\n",
    "    row_df_1 = pd.DataFrame(np.array(g).reshape(-1,1),index = x.index)\n",
    "    row_df_2 = pd.DataFrame(f.reshape(1,-1),columns = x.columns)\n",
    "    row_df_1.sort_index(axis = 0, inplace=True)\n",
    "    row_df_2.sort_index(axis = 1, inplace=True)\n",
    "    # col pattern production\n",
    "    col_pattern = matrix_product(col_df_1.values, col_df_2.values)\n",
    "    # row pattern production\n",
    "    row_pattern = matrix_product(row_df_1.values, row_df_2.values)\n",
    "    return col_pattern, row_pattern, col_df_1, col_df_2, row_df_1, row_df_2"
   ]
  },
  {
   "cell_type": "code",
   "execution_count": 6,
   "id": "e1e27db1-84a8-48a6-91bd-c15511de9b57",
   "metadata": {
    "execution": {
     "iopub.execute_input": "2021-10-12T19:53:07.961364Z",
     "iopub.status.busy": "2021-10-12T19:53:07.961364Z",
     "iopub.status.idle": "2021-10-12T19:53:07.979364Z",
     "shell.execute_reply": "2021-10-12T19:53:07.978863Z",
     "shell.execute_reply.started": "2021-10-12T19:53:07.961364Z"
    }
   },
   "outputs": [],
   "source": [
    "def bi_growth(x, t=0.9):\n",
    "    \"\"\"\n",
    "    parameter: \n",
    "        x, the input Binary Matrix\n",
    "        t, the threshold of vector similarity\n",
    "    output:\n",
    "        (a,b):\n",
    "            a: list of rows(columns) of high similarity with b\n",
    "            b: median row(column) of x\n",
    "    \"\"\"\n",
    "    # UTL operation on X\n",
    "    # drop columns and rows with all zeros\n",
    "    x = x.loc[(x!=0).any(axis=1)]\n",
    "    x = x.loc[:, (x != 0).any(axis=0)]\n",
    "    # reorder based on idea in MEBF paper\n",
    "    idx = x.eq(1).sum(axis=1).sort_values(ascending=False).index\n",
    "    x = x.reindex(idx)\n",
    "    cols = x.eq(1).sum(axis=0).sort_values(ascending=True).index\n",
    "    x = x[cols]\n",
    "    # d represents the median column of x\n",
    "    med_col = len(x.columns) // 2\n",
    "    # d = x[med_col].values\n",
    "    d = x.values[:,med_col]\n",
    "    # f represents the median row of x\n",
    "    med_row = len(x.index) // 2\n",
    "    # f = x.loc[med_row].values\n",
    "    f=x.values[med_row,:]\n",
    "    # iterate over each column and compute similarity\n",
    "    e = []\n",
    "    for col in x.columns:\n",
    "        if (np.dot(x[col].values, d) / np.dot(d,d)) >= t:\n",
    "            e.append(1)\n",
    "        else:\n",
    "            e.append(0)\n",
    "    # iterate over each column and compute similarity\n",
    "    g = []\n",
    "    for row in x.index:\n",
    "        if (np.dot(x.loc[row].values, f) / np.dot(f,f)) >= t:\n",
    "            g.append(1)\n",
    "        else:\n",
    "            g.append(0)\n",
    "    # reconstruct the approximation matrix based on rows and cols\n",
    "    col_pattern, row_pattern,col_df_1,col_df_2,row_df_1,row_df_2 = reconstruct(x,d,e,f,g)\n",
    "    # sort rows and columns\n",
    "    x.sort_index(axis = 0,inplace=True)\n",
    "    x.sort_index(axis = 1,inplace=True)\n",
    "    # compute residule\n",
    "    col_residule = sum(matrix_subtract(x.values, col_pattern)).sum()\n",
    "    row_residule = sum(matrix_subtract(x.values, row_pattern)).sum()\n",
    "    # compare cost\n",
    "    if col_residule< row_residule:\n",
    "        # col pattern is better\n",
    "        return col_df_1, col_df_2\n",
    "    else:\n",
    "        # row pattern is better\n",
    "        return row_df_1,row_df_2"
   ]
  },
  {
   "cell_type": "code",
   "execution_count": 7,
   "id": "8e7b9019-099c-4a23-a1b2-8d0d35b772da",
   "metadata": {
    "execution": {
     "iopub.execute_input": "2021-10-12T19:53:08.357202Z",
     "iopub.status.busy": "2021-10-12T19:53:08.357202Z",
     "iopub.status.idle": "2021-10-12T19:53:08.365200Z",
     "shell.execute_reply": "2021-10-12T19:53:08.365200Z",
     "shell.execute_reply.started": "2021-10-12T19:53:08.357202Z"
    }
   },
   "outputs": [],
   "source": [
    "def vector_and_op(a,b):\n",
    "    res = list()\n",
    "    for val in zip(a,b):\n",
    "        if(val[0] and val[1]):\n",
    "            res.append(1)\n",
    "        else:\n",
    "            res.append(0)\n",
    "    return np.array(res).reshape(a.shape)"
   ]
  },
  {
   "cell_type": "code",
   "execution_count": 8,
   "id": "0c0ae89b-ba6f-4190-ab85-1e2e07c565fc",
   "metadata": {
    "execution": {
     "iopub.execute_input": "2021-10-12T19:53:08.705513Z",
     "iopub.status.busy": "2021-10-12T19:53:08.705011Z",
     "iopub.status.idle": "2021-10-12T19:53:08.721532Z",
     "shell.execute_reply": "2021-10-12T19:53:08.721012Z",
     "shell.execute_reply.started": "2021-10-12T19:53:08.705513Z"
    }
   },
   "outputs": [],
   "source": [
    "def weak_signal_detection(x,t=0.9):\n",
    "    # UTL operation on X\n",
    "    # drop columns and rows with all zeros\n",
    "    x = x.loc[(x!=0).any(axis=1)]\n",
    "    x = x.loc[:, (x != 0).any(axis=0)]\n",
    "    # UTL operation on X\n",
    "    idx = x.eq(1).sum(axis=1).sort_values(ascending=False).index\n",
    "    x = x.reindex(idx)\n",
    "    cols = x.eq(1).sum(axis=0).sort_values(ascending=True).index\n",
    "    x = x[cols]\n",
    "    # compute d_1\n",
    "    d_1 = vector_and_op(x.values[:,-2],x.values[:,-1])\n",
    "    # iterate over each column and compute similarity, filter cols\n",
    "    e_1 = []\n",
    "    for col in x.columns:\n",
    "        if (np.dot(x[col].values, d_1) / np.dot(d_1,d_1)) >= t:\n",
    "            e_1.append(1)\n",
    "        else:\n",
    "            e_1.append(0)\n",
    "    # iterate over each column and compute similarity, filter rows\n",
    "    d_2 = vector_and_op(x.values[0,:],x.values[1,:])\n",
    "    e_2 = []\n",
    "    for row in x.index:\n",
    "        if (np.dot(x.loc[row].values, d_2) / np.dot(d_2,d_2)) >= t:\n",
    "            e_2.append(1)\n",
    "        else:\n",
    "            e_2.append(0)\n",
    "    # reconstruct the approximation matrix based on rows and cols\n",
    "    pattern_1, pattern_2, l1_1,l1_2,l2_1,l2_2 = reconstruct(x,d_1,e_1,d_2,e_2)\n",
    "    # sort by index and columns\n",
    "    x.sort_index(axis = 0,inplace=True)\n",
    "    x.sort_index(axis = 1,inplace=True)\n",
    "    # compute residule\n",
    "    l1 = matrix_subtract(x.values, pattern_1)\n",
    "    l2 = matrix_subtract(x.values, pattern_2)\n",
    "     # compare cost\n",
    "    if sum(l1).sum() < sum(l2).sum():\n",
    "        return l1_1,l1_2\n",
    "    else:\n",
    "        return l2_1,l2_2"
   ]
  },
  {
   "cell_type": "code",
   "execution_count": 9,
   "id": "97a9953e-cb11-40c5-8b93-8f88be2999cc",
   "metadata": {
    "execution": {
     "iopub.execute_input": "2021-10-12T19:53:09.083414Z",
     "iopub.status.busy": "2021-10-12T19:53:09.082914Z",
     "iopub.status.idle": "2021-10-12T19:53:09.092415Z",
     "shell.execute_reply": "2021-10-12T19:53:09.091914Z",
     "shell.execute_reply.started": "2021-10-12T19:53:09.083414Z"
    }
   },
   "outputs": [],
   "source": [
    "def MEBF(x,t=0.8):\n",
    "    # re_A, re_B to record the pattern\n",
    "    re_A = pd.DataFrame(index =x.index.values)\n",
    "    re_B = pd.DataFrame(columns = x.columns.values)\n",
    "    cost = float('inf')\n",
    "    x_residule = x.copy()\n",
    "    while True:\n",
    "        new_1, new_2 = bi_growth(x_residule,t)\n",
    "        # check whether new pattern could fit better\n",
    "        A_tmp = pd.concat([re_A,new_1],axis = 1).fillna(0)\n",
    "        B_tmp = pd.concat([re_B,new_2],axis = 0).fillna(0)\n",
    "        tmp_residule = matrix_subtract(x.values,matrix_product(A_tmp.values,B_tmp.values))\n",
    "        if sum(tmp_residule).sum() > cost:\n",
    "            # weak signal detection\n",
    "            l1,l2 = weak_signal_detection(x_residule,t)\n",
    "            A_tmp = pd.concat([re_A,l1],axis = 1).fillna(0)\n",
    "            B_tmp = pd.concat([re_B,l2],axis = 0).fillna(0)\n",
    "            tmp_residule = matrix_subtract(x.values,matrix_product(A_tmp.values,B_tmp.values))\n",
    "            print(\"weak detection\")\n",
    "            print(\"old cost\", cost)\n",
    "            print(\"new cost\", sum(tmp_residule).sum())\n",
    "            if sum(tmp_residule).sum() >= cost:\n",
    "                print(\"no more pattern, break\")\n",
    "                break\n",
    "        # update re_A, re_B, and cost\n",
    "        re_A = A_tmp.copy()\n",
    "        re_B = B_tmp.copy()\n",
    "        cost = sum(tmp_residule).sum()\n",
    "        # update x_residule\n",
    "        tmp = pd.DataFrame(matrix_product(new_1.values,new_2.values), index = new_1.index, columns = new_2.columns)\n",
    "        for i in tmp.index:\n",
    "            for j in tmp.columns:\n",
    "                if(tmp.loc[i][j] == 1):\n",
    "                    x_residule.loc[i][j] = 0\n",
    "        if sum(x_residule.values).sum() == 0:\n",
    "            break\n",
    "    return re_A, re_B"
   ]
  },
  {
   "cell_type": "code",
   "execution_count": 10,
   "id": "7b184f2c-8dd5-47ec-b1b2-2dc1f8bbfad5",
   "metadata": {
    "execution": {
     "iopub.execute_input": "2021-10-12T19:53:13.771412Z",
     "iopub.status.busy": "2021-10-12T19:53:13.770910Z",
     "iopub.status.idle": "2021-10-12T19:53:13.855909Z",
     "shell.execute_reply": "2021-10-12T19:53:13.855909Z",
     "shell.execute_reply.started": "2021-10-12T19:53:13.771412Z"
    }
   },
   "outputs": [],
   "source": [
    "x_in_paper = pd.DataFrame(np.array([[1,1,0,1,1,1,0,1,0,0,0],[1,1,1,1,1,1,1,1,1,1,1],[1,1,0,1,1,1,1,0,1,0,1],\n",
    "         [0,1,0,0,0,0,0,0,0,0,0],[1,1,1,1,1,1,1,1,1,0,0],[1,1,1,1,1,1,1,0,1,0,0],\n",
    "         [0,0,0,1,0,0,0,0,0,0,0],[1,1,1,1,1,1,1,1,1,1,0],[1,1,0,1,0,1,1,0,0,0,0],\n",
    "         [1,1,1,1,1,0,0,0,0,0,0,],[1,1,0,1,1,0,0,0,0,0,0]]), index = range(1,12), columns = range(1,12))\n",
    "A,B = MEBF(x_in_paper,0.8)"
   ]
  },
  {
   "cell_type": "code",
   "execution_count": 12,
   "id": "4a63ddd4-b2fc-4ccc-b7f5-b336219d8649",
   "metadata": {
    "execution": {
     "iopub.execute_input": "2021-10-12T19:56:45.431024Z",
     "iopub.status.busy": "2021-10-12T19:56:45.430523Z",
     "iopub.status.idle": "2021-10-12T19:56:45.445025Z",
     "shell.execute_reply": "2021-10-12T19:56:45.444524Z",
     "shell.execute_reply.started": "2021-10-12T19:56:45.431024Z"
    },
    "tags": []
   },
   "outputs": [],
   "source": [
    "x = x_in_paper.copy()"
   ]
  },
  {
   "cell_type": "code",
   "execution_count": 13,
   "id": "ffd8c996-5a4f-4ffd-9c3a-6c10217093be",
   "metadata": {
    "execution": {
     "iopub.execute_input": "2021-10-12T19:56:55.268404Z",
     "iopub.status.busy": "2021-10-12T19:56:55.267903Z",
     "iopub.status.idle": "2021-10-12T19:56:55.281402Z",
     "shell.execute_reply": "2021-10-12T19:56:55.280902Z",
     "shell.execute_reply.started": "2021-10-12T19:56:55.268404Z"
    }
   },
   "outputs": [],
   "source": [
    "    re_A = pd.DataFrame(index =x.index.values)\n",
    "    re_B = pd.DataFrame(columns = x.columns.values)\n",
    "    cost = float('inf')\n",
    "    x_residule = x.copy()"
   ]
  },
  {
   "cell_type": "code",
   "execution_count": 16,
   "id": "de4d0e8f-9f67-4149-98c5-f4bbba8ca2d1",
   "metadata": {
    "execution": {
     "iopub.execute_input": "2021-10-12T19:57:14.333981Z",
     "iopub.status.busy": "2021-10-12T19:57:14.333981Z",
     "iopub.status.idle": "2021-10-12T19:57:14.355981Z",
     "shell.execute_reply": "2021-10-12T19:57:14.355480Z",
     "shell.execute_reply.started": "2021-10-12T19:57:14.333981Z"
    },
    "tags": []
   },
   "outputs": [],
   "source": [
    "        new_1, new_2 = bi_growth(x_residule,t)\n",
    "        # check whether new pattern could fit better\n",
    "        A_tmp = pd.concat([re_A,new_1],axis = 1).fillna(0)\n",
    "        B_tmp = pd.concat([re_B,new_2],axis = 0).fillna(0)\n",
    "        tmp_residule = matrix_subtract(x.values,matrix_product(A_tmp.values,B_tmp.values))"
   ]
  },
  {
   "cell_type": "code",
   "execution_count": 17,
   "id": "498aa2ff-ff8c-47b0-a8f6-d96ee2ca0326",
   "metadata": {
    "execution": {
     "iopub.execute_input": "2021-10-12T19:57:35.881458Z",
     "iopub.status.busy": "2021-10-12T19:57:35.881458Z",
     "iopub.status.idle": "2021-10-12T19:57:35.903458Z",
     "shell.execute_reply": "2021-10-12T19:57:35.902958Z",
     "shell.execute_reply.started": "2021-10-12T19:57:35.881458Z"
    }
   },
   "outputs": [],
   "source": [
    "        re_A = A_tmp.copy()\n",
    "        re_B = B_tmp.copy()\n",
    "        cost = sum(tmp_residule).sum()\n",
    "        # update x_residule\n",
    "        tmp = pd.DataFrame(matrix_product(new_1.values,new_2.values), index = new_1.index, columns = new_2.columns)\n",
    "        for i in tmp.index:\n",
    "            for j in tmp.columns:\n",
    "                if(tmp.loc[i][j] == 1):\n",
    "                    x_residule.loc[i][j] = 0"
   ]
  },
  {
   "cell_type": "code",
   "execution_count": 20,
   "id": "da1c217e-0fed-44fe-b345-79c4af3e68bb",
   "metadata": {
    "execution": {
     "iopub.execute_input": "2021-10-12T20:00:26.609270Z",
     "iopub.status.busy": "2021-10-12T20:00:26.609270Z",
     "iopub.status.idle": "2021-10-12T20:00:26.616769Z",
     "shell.execute_reply": "2021-10-12T20:00:26.616769Z",
     "shell.execute_reply.started": "2021-10-12T20:00:26.609270Z"
    },
    "tags": []
   },
   "outputs": [],
   "source": [
    "x = x_residule.copy()"
   ]
  },
  {
   "cell_type": "code",
   "execution_count": 22,
   "id": "d9ba3ee5-9da4-4554-bda6-dfbe0c32b4c9",
   "metadata": {
    "execution": {
     "iopub.execute_input": "2021-10-12T20:00:42.205808Z",
     "iopub.status.busy": "2021-10-12T20:00:42.205808Z",
     "iopub.status.idle": "2021-10-12T20:00:42.216807Z",
     "shell.execute_reply": "2021-10-12T20:00:42.216807Z",
     "shell.execute_reply.started": "2021-10-12T20:00:42.205808Z"
    }
   },
   "outputs": [
    {
     "data": {
      "text/html": [
       "<div>\n",
       "<style scoped>\n",
       "    .dataframe tbody tr th:only-of-type {\n",
       "        vertical-align: middle;\n",
       "    }\n",
       "\n",
       "    .dataframe tbody tr th {\n",
       "        vertical-align: top;\n",
       "    }\n",
       "\n",
       "    .dataframe thead th {\n",
       "        text-align: right;\n",
       "    }\n",
       "</style>\n",
       "<table border=\"1\" class=\"dataframe\">\n",
       "  <thead>\n",
       "    <tr style=\"text-align: right;\">\n",
       "      <th></th>\n",
       "      <th>1</th>\n",
       "      <th>2</th>\n",
       "      <th>3</th>\n",
       "      <th>4</th>\n",
       "      <th>5</th>\n",
       "      <th>6</th>\n",
       "      <th>8</th>\n",
       "      <th>10</th>\n",
       "      <th>11</th>\n",
       "    </tr>\n",
       "  </thead>\n",
       "  <tbody>\n",
       "    <tr>\n",
       "      <th>1</th>\n",
       "      <td>1</td>\n",
       "      <td>1</td>\n",
       "      <td>0</td>\n",
       "      <td>1</td>\n",
       "      <td>1</td>\n",
       "      <td>1</td>\n",
       "      <td>1</td>\n",
       "      <td>0</td>\n",
       "      <td>0</td>\n",
       "    </tr>\n",
       "    <tr>\n",
       "      <th>2</th>\n",
       "      <td>0</td>\n",
       "      <td>0</td>\n",
       "      <td>1</td>\n",
       "      <td>0</td>\n",
       "      <td>0</td>\n",
       "      <td>0</td>\n",
       "      <td>1</td>\n",
       "      <td>1</td>\n",
       "      <td>1</td>\n",
       "    </tr>\n",
       "    <tr>\n",
       "      <th>3</th>\n",
       "      <td>0</td>\n",
       "      <td>0</td>\n",
       "      <td>0</td>\n",
       "      <td>0</td>\n",
       "      <td>0</td>\n",
       "      <td>0</td>\n",
       "      <td>0</td>\n",
       "      <td>0</td>\n",
       "      <td>1</td>\n",
       "    </tr>\n",
       "    <tr>\n",
       "      <th>4</th>\n",
       "      <td>0</td>\n",
       "      <td>1</td>\n",
       "      <td>0</td>\n",
       "      <td>0</td>\n",
       "      <td>0</td>\n",
       "      <td>0</td>\n",
       "      <td>0</td>\n",
       "      <td>0</td>\n",
       "      <td>0</td>\n",
       "    </tr>\n",
       "    <tr>\n",
       "      <th>5</th>\n",
       "      <td>0</td>\n",
       "      <td>0</td>\n",
       "      <td>1</td>\n",
       "      <td>0</td>\n",
       "      <td>0</td>\n",
       "      <td>0</td>\n",
       "      <td>1</td>\n",
       "      <td>0</td>\n",
       "      <td>0</td>\n",
       "    </tr>\n",
       "    <tr>\n",
       "      <th>6</th>\n",
       "      <td>0</td>\n",
       "      <td>0</td>\n",
       "      <td>1</td>\n",
       "      <td>0</td>\n",
       "      <td>0</td>\n",
       "      <td>0</td>\n",
       "      <td>0</td>\n",
       "      <td>0</td>\n",
       "      <td>0</td>\n",
       "    </tr>\n",
       "    <tr>\n",
       "      <th>7</th>\n",
       "      <td>0</td>\n",
       "      <td>0</td>\n",
       "      <td>0</td>\n",
       "      <td>1</td>\n",
       "      <td>0</td>\n",
       "      <td>0</td>\n",
       "      <td>0</td>\n",
       "      <td>0</td>\n",
       "      <td>0</td>\n",
       "    </tr>\n",
       "    <tr>\n",
       "      <th>8</th>\n",
       "      <td>0</td>\n",
       "      <td>0</td>\n",
       "      <td>1</td>\n",
       "      <td>0</td>\n",
       "      <td>0</td>\n",
       "      <td>0</td>\n",
       "      <td>1</td>\n",
       "      <td>1</td>\n",
       "      <td>0</td>\n",
       "    </tr>\n",
       "    <tr>\n",
       "      <th>10</th>\n",
       "      <td>1</td>\n",
       "      <td>1</td>\n",
       "      <td>1</td>\n",
       "      <td>1</td>\n",
       "      <td>1</td>\n",
       "      <td>0</td>\n",
       "      <td>0</td>\n",
       "      <td>0</td>\n",
       "      <td>0</td>\n",
       "    </tr>\n",
       "    <tr>\n",
       "      <th>11</th>\n",
       "      <td>1</td>\n",
       "      <td>1</td>\n",
       "      <td>0</td>\n",
       "      <td>1</td>\n",
       "      <td>1</td>\n",
       "      <td>0</td>\n",
       "      <td>0</td>\n",
       "      <td>0</td>\n",
       "      <td>0</td>\n",
       "    </tr>\n",
       "  </tbody>\n",
       "</table>\n",
       "</div>"
      ],
      "text/plain": [
       "    1   2   3   4   5   6   8   10  11\n",
       "1    1   1   0   1   1   1   1   0   0\n",
       "2    0   0   1   0   0   0   1   1   1\n",
       "3    0   0   0   0   0   0   0   0   1\n",
       "4    0   1   0   0   0   0   0   0   0\n",
       "5    0   0   1   0   0   0   1   0   0\n",
       "6    0   0   1   0   0   0   0   0   0\n",
       "7    0   0   0   1   0   0   0   0   0\n",
       "8    0   0   1   0   0   0   1   1   0\n",
       "10   1   1   1   1   1   0   0   0   0\n",
       "11   1   1   0   1   1   0   0   0   0"
      ]
     },
     "execution_count": 22,
     "metadata": {},
     "output_type": "execute_result"
    }
   ],
   "source": [
    "x"
   ]
  },
  {
   "cell_type": "code",
   "execution_count": 23,
   "id": "2f0f0810-1e89-4b3c-8570-860bf2e93a6c",
   "metadata": {
    "execution": {
     "iopub.execute_input": "2021-10-12T20:00:53.891581Z",
     "iopub.status.busy": "2021-10-12T20:00:53.891581Z",
     "iopub.status.idle": "2021-10-12T20:00:53.899581Z",
     "shell.execute_reply": "2021-10-12T20:00:53.899581Z",
     "shell.execute_reply.started": "2021-10-12T20:00:53.891581Z"
    }
   },
   "outputs": [],
   "source": [
    "    idx = x.eq(1).sum(axis=1).sort_values(ascending=False).index\n",
    "    x = x.reindex(idx)\n",
    "    cols = x.eq(1).sum(axis=0).sort_values(ascending=True).index\n",
    "    x = x[cols]"
   ]
  },
  {
   "cell_type": "code",
   "execution_count": 42,
   "id": "1b146814-d62f-4a4e-bf10-f3b6f906d47d",
   "metadata": {
    "execution": {
     "iopub.execute_input": "2021-10-12T20:05:38.096390Z",
     "iopub.status.busy": "2021-10-12T20:05:38.095891Z",
     "iopub.status.idle": "2021-10-12T20:05:38.109891Z",
     "shell.execute_reply": "2021-10-12T20:05:38.109390Z",
     "shell.execute_reply.started": "2021-10-12T20:05:38.096390Z"
    }
   },
   "outputs": [],
   "source": [
    "x = x[[6,10,11,5,1,8,2,4,3]]"
   ]
  },
  {
   "cell_type": "code",
   "execution_count": 43,
   "id": "a93e59d5-6d0f-4128-a48c-8601230ef3ee",
   "metadata": {
    "execution": {
     "iopub.execute_input": "2021-10-12T20:05:38.297574Z",
     "iopub.status.busy": "2021-10-12T20:05:38.297574Z",
     "iopub.status.idle": "2021-10-12T20:05:38.311072Z",
     "shell.execute_reply": "2021-10-12T20:05:38.310570Z",
     "shell.execute_reply.started": "2021-10-12T20:05:38.297574Z"
    }
   },
   "outputs": [],
   "source": [
    "x = x.reindex([1,2,11,10,8,5,3,6,7,4])"
   ]
  },
  {
   "cell_type": "code",
   "execution_count": 53,
   "id": "01b62ca2-5c97-4b10-89b1-7d4475e985fd",
   "metadata": {
    "execution": {
     "iopub.execute_input": "2021-10-12T20:21:43.231451Z",
     "iopub.status.busy": "2021-10-12T20:21:43.231451Z",
     "iopub.status.idle": "2021-10-12T20:21:43.248450Z",
     "shell.execute_reply": "2021-10-12T20:21:43.247951Z",
     "shell.execute_reply.started": "2021-10-12T20:21:43.231451Z"
    },
    "tags": []
   },
   "outputs": [
    {
     "data": {
      "text/plain": [
       "5"
      ]
     },
     "execution_count": 53,
     "metadata": {},
     "output_type": "execute_result"
    }
   ],
   "source": [
    "x.shape[0]//2"
   ]
  },
  {
   "cell_type": "code",
   "execution_count": 55,
   "id": "a2ef8735-9779-447a-b265-2e01e3bb3f49",
   "metadata": {
    "execution": {
     "iopub.execute_input": "2021-10-12T20:21:57.019912Z",
     "iopub.status.busy": "2021-10-12T20:21:57.019912Z",
     "iopub.status.idle": "2021-10-12T20:21:57.029911Z",
     "shell.execute_reply": "2021-10-12T20:21:57.029911Z",
     "shell.execute_reply.started": "2021-10-12T20:21:57.019912Z"
    }
   },
   "outputs": [
    {
     "data": {
      "text/html": [
       "<div>\n",
       "<style scoped>\n",
       "    .dataframe tbody tr th:only-of-type {\n",
       "        vertical-align: middle;\n",
       "    }\n",
       "\n",
       "    .dataframe tbody tr th {\n",
       "        vertical-align: top;\n",
       "    }\n",
       "\n",
       "    .dataframe thead th {\n",
       "        text-align: right;\n",
       "    }\n",
       "</style>\n",
       "<table border=\"1\" class=\"dataframe\">\n",
       "  <thead>\n",
       "    <tr style=\"text-align: right;\">\n",
       "      <th></th>\n",
       "      <th>6</th>\n",
       "      <th>10</th>\n",
       "      <th>11</th>\n",
       "      <th>5</th>\n",
       "      <th>1</th>\n",
       "      <th>8</th>\n",
       "      <th>2</th>\n",
       "      <th>4</th>\n",
       "      <th>3</th>\n",
       "    </tr>\n",
       "  </thead>\n",
       "  <tbody>\n",
       "    <tr>\n",
       "      <th>1</th>\n",
       "      <td>1</td>\n",
       "      <td>0</td>\n",
       "      <td>0</td>\n",
       "      <td>1</td>\n",
       "      <td>1</td>\n",
       "      <td>1</td>\n",
       "      <td>1</td>\n",
       "      <td>1</td>\n",
       "      <td>0</td>\n",
       "    </tr>\n",
       "    <tr>\n",
       "      <th>2</th>\n",
       "      <td>0</td>\n",
       "      <td>1</td>\n",
       "      <td>1</td>\n",
       "      <td>0</td>\n",
       "      <td>0</td>\n",
       "      <td>1</td>\n",
       "      <td>0</td>\n",
       "      <td>0</td>\n",
       "      <td>1</td>\n",
       "    </tr>\n",
       "    <tr>\n",
       "      <th>11</th>\n",
       "      <td>0</td>\n",
       "      <td>0</td>\n",
       "      <td>0</td>\n",
       "      <td>1</td>\n",
       "      <td>1</td>\n",
       "      <td>0</td>\n",
       "      <td>1</td>\n",
       "      <td>1</td>\n",
       "      <td>0</td>\n",
       "    </tr>\n",
       "    <tr>\n",
       "      <th>10</th>\n",
       "      <td>0</td>\n",
       "      <td>0</td>\n",
       "      <td>0</td>\n",
       "      <td>1</td>\n",
       "      <td>1</td>\n",
       "      <td>0</td>\n",
       "      <td>1</td>\n",
       "      <td>1</td>\n",
       "      <td>1</td>\n",
       "    </tr>\n",
       "    <tr>\n",
       "      <th>8</th>\n",
       "      <td>0</td>\n",
       "      <td>1</td>\n",
       "      <td>0</td>\n",
       "      <td>0</td>\n",
       "      <td>0</td>\n",
       "      <td>1</td>\n",
       "      <td>0</td>\n",
       "      <td>0</td>\n",
       "      <td>1</td>\n",
       "    </tr>\n",
       "    <tr>\n",
       "      <th>5</th>\n",
       "      <td>0</td>\n",
       "      <td>0</td>\n",
       "      <td>0</td>\n",
       "      <td>0</td>\n",
       "      <td>0</td>\n",
       "      <td>1</td>\n",
       "      <td>0</td>\n",
       "      <td>0</td>\n",
       "      <td>1</td>\n",
       "    </tr>\n",
       "    <tr>\n",
       "      <th>3</th>\n",
       "      <td>0</td>\n",
       "      <td>0</td>\n",
       "      <td>1</td>\n",
       "      <td>0</td>\n",
       "      <td>0</td>\n",
       "      <td>0</td>\n",
       "      <td>0</td>\n",
       "      <td>0</td>\n",
       "      <td>0</td>\n",
       "    </tr>\n",
       "    <tr>\n",
       "      <th>6</th>\n",
       "      <td>0</td>\n",
       "      <td>0</td>\n",
       "      <td>0</td>\n",
       "      <td>0</td>\n",
       "      <td>0</td>\n",
       "      <td>0</td>\n",
       "      <td>0</td>\n",
       "      <td>0</td>\n",
       "      <td>1</td>\n",
       "    </tr>\n",
       "    <tr>\n",
       "      <th>7</th>\n",
       "      <td>0</td>\n",
       "      <td>0</td>\n",
       "      <td>0</td>\n",
       "      <td>0</td>\n",
       "      <td>0</td>\n",
       "      <td>0</td>\n",
       "      <td>0</td>\n",
       "      <td>1</td>\n",
       "      <td>0</td>\n",
       "    </tr>\n",
       "    <tr>\n",
       "      <th>4</th>\n",
       "      <td>0</td>\n",
       "      <td>0</td>\n",
       "      <td>0</td>\n",
       "      <td>0</td>\n",
       "      <td>0</td>\n",
       "      <td>0</td>\n",
       "      <td>1</td>\n",
       "      <td>0</td>\n",
       "      <td>0</td>\n",
       "    </tr>\n",
       "  </tbody>\n",
       "</table>\n",
       "</div>"
      ],
      "text/plain": [
       "    6   10  11  5   1   8   2   4   3 \n",
       "1    1   0   0   1   1   1   1   1   0\n",
       "2    0   1   1   0   0   1   0   0   1\n",
       "11   0   0   0   1   1   0   1   1   0\n",
       "10   0   0   0   1   1   0   1   1   1\n",
       "8    0   1   0   0   0   1   0   0   1\n",
       "5    0   0   0   0   0   1   0   0   1\n",
       "3    0   0   1   0   0   0   0   0   0\n",
       "6    0   0   0   0   0   0   0   0   1\n",
       "7    0   0   0   0   0   0   0   1   0\n",
       "4    0   0   0   0   0   0   1   0   0"
      ]
     },
     "execution_count": 55,
     "metadata": {},
     "output_type": "execute_result"
    }
   ],
   "source": [
    "x"
   ]
  },
  {
   "cell_type": "code",
   "execution_count": 54,
   "id": "187c6a36-45bb-4afe-bf34-6546b4083d6e",
   "metadata": {
    "execution": {
     "iopub.execute_input": "2021-10-12T20:21:50.560008Z",
     "iopub.status.busy": "2021-10-12T20:21:50.560008Z",
     "iopub.status.idle": "2021-10-12T20:21:50.567508Z",
     "shell.execute_reply": "2021-10-12T20:21:50.567007Z",
     "shell.execute_reply.started": "2021-10-12T20:21:50.560008Z"
    }
   },
   "outputs": [
    {
     "data": {
      "text/plain": [
       "array([0, 0, 0, 0, 0, 1, 0, 0, 1])"
      ]
     },
     "execution_count": 54,
     "metadata": {},
     "output_type": "execute_result"
    }
   ],
   "source": [
    "x.values[5,:]"
   ]
  },
  {
   "cell_type": "code",
   "execution_count": null,
   "id": "b7c7b273-4581-4ede-b449-09b2cd62c934",
   "metadata": {},
   "outputs": [],
   "source": [
    "def bi_growth(x, t=0.9):\n",
    "    \"\"\"\n",
    "    parameter: \n",
    "        x, the input Binary Matrix\n",
    "        t, the threshold of vector similarity\n",
    "    output:\n",
    "        (a,b):\n",
    "            a: list of rows(columns) of high similarity with b\n",
    "            b: median row(column) of x\n",
    "    \"\"\"\n",
    "    # UTL operation on X\n",
    "    # drop columns and rows with all zeros\n",
    "    x = x.loc[(x!=0).any(axis=1)]\n",
    "    x = x.loc[:, (x != 0).any(axis=0)]\n",
    "    # reorder based on idea in MEBF paper\n",
    "    idx = x.eq(1).sum(axis=1).sort_values(ascending=False).index\n",
    "    x = x.reindex(idx)\n",
    "    cols = x.eq(1).sum(axis=0).sort_values(ascending=True).index\n",
    "    x = x[cols]\n",
    "    # d represents the median column of x\n",
    "    med_col = len(x.columns) // 2\n",
    "    # d = x[med_col].values\n",
    "    d = x.values[:,med_col]\n",
    "    # f represents the median row of x\n",
    "    med_row = len(x.index) // 2\n",
    "    # f = x.loc[med_row].values\n",
    "    f=x.values[med_row,:]\n",
    "    # iterate over each column and compute similarity\n",
    "    e = []\n",
    "    for col in x.columns:\n",
    "        if (np.dot(x[col].values, d) / np.dot(d,d)) >= t:\n",
    "            e.append(1)\n",
    "        else:\n",
    "            e.append(0)\n",
    "    # iterate over each column and compute similarity\n",
    "    g = []\n",
    "    for row in x.index:\n",
    "        if (np.dot(x.loc[row].values, f) / np.dot(f,f)) >= t:\n",
    "            g.append(1)\n",
    "        else:\n",
    "            g.append(0)\n",
    "    # reconstruct the approximation matrix based on rows and cols\n",
    "    col_pattern, row_pattern,col_df_1,col_df_2,row_df_1,row_df_2 = reconstruct(x,d,e,f,g)\n",
    "    # sort rows and columns\n",
    "    x.sort_index(axis = 0,inplace=True)\n",
    "    x.sort_index(axis = 1,inplace=True)\n",
    "    # compute residule\n",
    "    col_residule = sum(matrix_subtract(x.values, col_pattern)).sum()\n",
    "    row_residule = sum(matrix_subtract(x.values, row_pattern)).sum()\n",
    "    # compare cost\n",
    "    if col_residule< row_residule:\n",
    "        # col pattern is better\n",
    "        return col_df_1, col_df_2\n",
    "    else:\n",
    "        # row pattern is better\n",
    "        return row_df_1,row_df_2"
   ]
  },
  {
   "cell_type": "code",
   "execution_count": null,
   "id": "39d509f8-955f-4707-bc59-bc4a629efd46",
   "metadata": {},
   "outputs": [],
   "source": []
  },
  {
   "cell_type": "code",
   "execution_count": null,
   "id": "2e5128c4-4bbd-4e7b-8b24-107f74aa2019",
   "metadata": {},
   "outputs": [],
   "source": []
  },
  {
   "cell_type": "code",
   "execution_count": null,
   "id": "16e52065-b0cf-4594-a473-3b80049f3033",
   "metadata": {},
   "outputs": [],
   "source": []
  },
  {
   "cell_type": "code",
   "execution_count": null,
   "id": "46b54df3-c903-495a-8a64-e30979a67573",
   "metadata": {},
   "outputs": [],
   "source": []
  },
  {
   "cell_type": "code",
   "execution_count": null,
   "id": "ded0005a-ede2-448a-ba23-ac69ecf9c314",
   "metadata": {},
   "outputs": [],
   "source": []
  },
  {
   "cell_type": "code",
   "execution_count": null,
   "id": "ed03a268-5a0d-4e59-877e-46b2aa982fe0",
   "metadata": {},
   "outputs": [],
   "source": []
  },
  {
   "cell_type": "code",
   "execution_count": null,
   "id": "56cf20d8-f4b6-497c-98a5-5640cdd367a3",
   "metadata": {},
   "outputs": [],
   "source": []
  },
  {
   "cell_type": "code",
   "execution_count": null,
   "id": "c34519be-159f-4819-8692-931c5337b4ec",
   "metadata": {},
   "outputs": [],
   "source": []
  },
  {
   "cell_type": "code",
   "execution_count": 261,
   "id": "62d974b2-487c-47a1-8584-1da12efc036e",
   "metadata": {},
   "outputs": [
    {
     "data": {
      "text/plain": [
       "<AxesSubplot:>"
      ]
     },
     "execution_count": 261,
     "metadata": {},
     "output_type": "execute_result"
    },
    {
     "data": {
      "image/png": "[encoded data removed]",
      "text/plain": [
       "<Figure size 432x288 with 2 Axes>"
      ]
     },
     "metadata": {
      "needs_background": "light"
     },
     "output_type": "display_data"
    }
   ],
   "source": [
    "sns.heatmap(matrix_subtract(x_in_paper.values, matrix_product(A.values, B.values)), annot=False, vmin=0, vmax=1)"
   ]
  },
  {
   "cell_type": "code",
   "execution_count": 262,
   "id": "f4d3be1b-06bc-4fb2-88bb-517798728a64",
   "metadata": {},
   "outputs": [],
   "source": [
    "# try BMF on our data\n",
    "t1 = data_res.copy()\n",
    "t1[t1>0.5] = 1\n",
    "t1[t1<-0.5] = 1\n",
    "t1[t1!=1] =0\n",
    "t2 = data_res.copy()\n",
    "t2[t1>0.25] = 1\n",
    "t2[t1<-0.25] = 1\n",
    "t2[t1!=1] =0"
   ]
  },
  {
   "cell_type": "code",
   "execution_count": 263,
   "id": "8735712c-f009-4462-a852-7658228c7e35",
   "metadata": {},
   "outputs": [],
   "source": [
    "A1,B1 = MEBF(t1,0.8)\n",
    "A2,B2 = MEBF(t2,0.8)"
   ]
  },
  {
   "cell_type": "code",
   "execution_count": 273,
   "id": "7a54b78c-d64f-4c08-87a5-704e6c9788dc",
   "metadata": {},
   "outputs": [
    {
     "data": {
      "text/plain": [
       "<AxesSubplot:>"
      ]
     },
     "execution_count": 273,
     "metadata": {},
     "output_type": "execute_result"
    },
    {
     "data": {
      "image/png": "[encoded data removed]",
      "text/plain": [
       "<Figure size 432x288 with 2 Axes>"
      ]
     },
     "metadata": {
      "needs_background": "light"
     },
     "output_type": "display_data"
    }
   ],
   "source": [
    "sns.heatmap(A1.values, annot=False, vmin=0, vmax=1)"
   ]
  },
  {
   "cell_type": "code",
   "execution_count": 274,
   "id": "2ca920d1-cd9f-4c59-a588-133e532a9943",
   "metadata": {},
   "outputs": [
    {
     "data": {
      "text/plain": [
       "<AxesSubplot:>"
      ]
     },
     "execution_count": 274,
     "metadata": {},
     "output_type": "execute_result"
    },
    {
     "data": {
      "image/png": "[encoded data removed]",
      "text/plain": [
       "<Figure size 432x288 with 2 Axes>"
      ]
     },
     "metadata": {
      "needs_background": "light"
     },
     "output_type": "display_data"
    }
   ],
   "source": [
    "sns.heatmap(B1.values, annot=False, vmin=0, vmax=1)"
   ]
  },
  {
   "cell_type": "code",
   "execution_count": 277,
   "id": "4512423f-8772-4dbe-ac79-d40ab740a571",
   "metadata": {},
   "outputs": [
    {
     "data": {
      "text/plain": [
       "(0.0, 0.0)"
      ]
     },
     "execution_count": 277,
     "metadata": {},
     "output_type": "execute_result"
    }
   ],
   "source": [
    "sum(matrix_subtract(t1.values, matrix_product(A1.values, B1.values))).sum(),sum(matrix_subtract(t2.values, matrix_product(A2.values, B2.values))).sum()"
   ]
  },
  {
   "cell_type": "markdown",
   "id": "86b72e40-ec5c-4a00-bb3b-315555322bb5",
   "metadata": {
    "tags": []
   },
   "source": [
    "### Perfectly fit. But the process is kind of random."
   ]
  }
 ],
 "metadata": {
  "kernelspec": {
   "display_name": "Python 3 (ipykernel)",
   "language": "python",
   "name": "python3"
  },
  "language_info": {
   "codemirror_mode": {
    "name": "ipython",
    "version": 3
   },
   "file_extension": ".py",
   "mimetype": "text/x-python",
   "name": "python",
   "nbconvert_exporter": "python",
   "pygments_lexer": "ipython3",
   "version": "3.8.0"
  }
 },
 "nbformat": 4,
 "nbformat_minor": 5
}
